{
 "cells": [
  {
   "cell_type": "markdown",
   "metadata": {},
   "source": [
    "# Projekt - ceny diamentów"
   ]
  },
  {
   "cell_type": "code",
   "execution_count": 1,
   "metadata": {},
   "outputs": [],
   "source": [
    "import pandas as pd\n",
    "import numpy as np\n",
    "import matplotlib.pyplot as plt\n",
    "from joblib import dump,load"
   ]
  },
  {
   "cell_type": "markdown",
   "metadata": {},
   "source": [
    "# 1. Opis zadania"
   ]
  },
  {
   "cell_type": "markdown",
   "metadata": {},
   "source": [
    "W poniższym projekcie stworzymy model który będzie wyceniał diament na podstawie różnych jego cechy:\n",
    "1. carat - waga diamentu podana w karatach\n",
    "2. cut - jakość szlifu\n",
    "3. color - kolor diamentu, im bardziej przezroczysty tym lepszy wynik\n",
    "4. clarity - czystość, dotycząca ilości niedoskonałości wewnątrz diamentu\n",
    "5. depth - stosunek wysokości diamentu do jego średnicy, wyrażony w procentach\n",
    "6. table - stosunek górnej powierzchni diamentu do jego średnicy, wyrażony w procentach\n",
    "7. x,y,z - wymiary diamentu w danej osi, podane w milimetrach\n",
    "\n",
    "Wykorzystamy do tego 3 typy regresji: K najbliższych sąsiadów, drzewo decyzyjne i las losowy."
   ]
  },
  {
   "cell_type": "markdown",
   "metadata": {},
   "source": [
    "# 2. Dane"
   ]
  },
  {
   "cell_type": "code",
   "execution_count": 2,
   "metadata": {},
   "outputs": [
    {
     "data": {
      "text/html": [
       "<div>\n",
       "<style scoped>\n",
       "    .dataframe tbody tr th:only-of-type {\n",
       "        vertical-align: middle;\n",
       "    }\n",
       "\n",
       "    .dataframe tbody tr th {\n",
       "        vertical-align: top;\n",
       "    }\n",
       "\n",
       "    .dataframe thead th {\n",
       "        text-align: right;\n",
       "    }\n",
       "</style>\n",
       "<table border=\"1\" class=\"dataframe\">\n",
       "  <thead>\n",
       "    <tr style=\"text-align: right;\">\n",
       "      <th></th>\n",
       "      <th>Unnamed: 0</th>\n",
       "      <th>carat</th>\n",
       "      <th>cut</th>\n",
       "      <th>color</th>\n",
       "      <th>clarity</th>\n",
       "      <th>depth</th>\n",
       "      <th>table</th>\n",
       "      <th>price</th>\n",
       "      <th>x</th>\n",
       "      <th>y</th>\n",
       "      <th>z</th>\n",
       "    </tr>\n",
       "  </thead>\n",
       "  <tbody>\n",
       "    <tr>\n",
       "      <th>0</th>\n",
       "      <td>1</td>\n",
       "      <td>0.23</td>\n",
       "      <td>Ideal</td>\n",
       "      <td>E</td>\n",
       "      <td>SI2</td>\n",
       "      <td>61.5</td>\n",
       "      <td>55.0</td>\n",
       "      <td>326</td>\n",
       "      <td>3.95</td>\n",
       "      <td>3.98</td>\n",
       "      <td>2.43</td>\n",
       "    </tr>\n",
       "    <tr>\n",
       "      <th>1</th>\n",
       "      <td>2</td>\n",
       "      <td>0.21</td>\n",
       "      <td>Premium</td>\n",
       "      <td>E</td>\n",
       "      <td>SI1</td>\n",
       "      <td>59.8</td>\n",
       "      <td>61.0</td>\n",
       "      <td>326</td>\n",
       "      <td>3.89</td>\n",
       "      <td>3.84</td>\n",
       "      <td>2.31</td>\n",
       "    </tr>\n",
       "    <tr>\n",
       "      <th>2</th>\n",
       "      <td>3</td>\n",
       "      <td>0.23</td>\n",
       "      <td>Good</td>\n",
       "      <td>E</td>\n",
       "      <td>VS1</td>\n",
       "      <td>56.9</td>\n",
       "      <td>65.0</td>\n",
       "      <td>327</td>\n",
       "      <td>4.05</td>\n",
       "      <td>4.07</td>\n",
       "      <td>2.31</td>\n",
       "    </tr>\n",
       "    <tr>\n",
       "      <th>3</th>\n",
       "      <td>4</td>\n",
       "      <td>0.29</td>\n",
       "      <td>Premium</td>\n",
       "      <td>I</td>\n",
       "      <td>VS2</td>\n",
       "      <td>62.4</td>\n",
       "      <td>58.0</td>\n",
       "      <td>334</td>\n",
       "      <td>4.20</td>\n",
       "      <td>4.23</td>\n",
       "      <td>2.63</td>\n",
       "    </tr>\n",
       "    <tr>\n",
       "      <th>4</th>\n",
       "      <td>5</td>\n",
       "      <td>0.31</td>\n",
       "      <td>Good</td>\n",
       "      <td>J</td>\n",
       "      <td>SI2</td>\n",
       "      <td>63.3</td>\n",
       "      <td>58.0</td>\n",
       "      <td>335</td>\n",
       "      <td>4.34</td>\n",
       "      <td>4.35</td>\n",
       "      <td>2.75</td>\n",
       "    </tr>\n",
       "    <tr>\n",
       "      <th>...</th>\n",
       "      <td>...</td>\n",
       "      <td>...</td>\n",
       "      <td>...</td>\n",
       "      <td>...</td>\n",
       "      <td>...</td>\n",
       "      <td>...</td>\n",
       "      <td>...</td>\n",
       "      <td>...</td>\n",
       "      <td>...</td>\n",
       "      <td>...</td>\n",
       "      <td>...</td>\n",
       "    </tr>\n",
       "    <tr>\n",
       "      <th>53935</th>\n",
       "      <td>53936</td>\n",
       "      <td>0.72</td>\n",
       "      <td>Ideal</td>\n",
       "      <td>D</td>\n",
       "      <td>SI1</td>\n",
       "      <td>60.8</td>\n",
       "      <td>57.0</td>\n",
       "      <td>2757</td>\n",
       "      <td>5.75</td>\n",
       "      <td>5.76</td>\n",
       "      <td>3.50</td>\n",
       "    </tr>\n",
       "    <tr>\n",
       "      <th>53936</th>\n",
       "      <td>53937</td>\n",
       "      <td>0.72</td>\n",
       "      <td>Good</td>\n",
       "      <td>D</td>\n",
       "      <td>SI1</td>\n",
       "      <td>63.1</td>\n",
       "      <td>55.0</td>\n",
       "      <td>2757</td>\n",
       "      <td>5.69</td>\n",
       "      <td>5.75</td>\n",
       "      <td>3.61</td>\n",
       "    </tr>\n",
       "    <tr>\n",
       "      <th>53937</th>\n",
       "      <td>53938</td>\n",
       "      <td>0.70</td>\n",
       "      <td>Very Good</td>\n",
       "      <td>D</td>\n",
       "      <td>SI1</td>\n",
       "      <td>62.8</td>\n",
       "      <td>60.0</td>\n",
       "      <td>2757</td>\n",
       "      <td>5.66</td>\n",
       "      <td>5.68</td>\n",
       "      <td>3.56</td>\n",
       "    </tr>\n",
       "    <tr>\n",
       "      <th>53938</th>\n",
       "      <td>53939</td>\n",
       "      <td>0.86</td>\n",
       "      <td>Premium</td>\n",
       "      <td>H</td>\n",
       "      <td>SI2</td>\n",
       "      <td>61.0</td>\n",
       "      <td>58.0</td>\n",
       "      <td>2757</td>\n",
       "      <td>6.15</td>\n",
       "      <td>6.12</td>\n",
       "      <td>3.74</td>\n",
       "    </tr>\n",
       "    <tr>\n",
       "      <th>53939</th>\n",
       "      <td>53940</td>\n",
       "      <td>0.75</td>\n",
       "      <td>Ideal</td>\n",
       "      <td>D</td>\n",
       "      <td>SI2</td>\n",
       "      <td>62.2</td>\n",
       "      <td>55.0</td>\n",
       "      <td>2757</td>\n",
       "      <td>5.83</td>\n",
       "      <td>5.87</td>\n",
       "      <td>3.64</td>\n",
       "    </tr>\n",
       "  </tbody>\n",
       "</table>\n",
       "<p>53940 rows × 11 columns</p>\n",
       "</div>"
      ],
      "text/plain": [
       "       Unnamed: 0  carat        cut color clarity  depth  table  price     x  \\\n",
       "0               1   0.23      Ideal     E     SI2   61.5   55.0    326  3.95   \n",
       "1               2   0.21    Premium     E     SI1   59.8   61.0    326  3.89   \n",
       "2               3   0.23       Good     E     VS1   56.9   65.0    327  4.05   \n",
       "3               4   0.29    Premium     I     VS2   62.4   58.0    334  4.20   \n",
       "4               5   0.31       Good     J     SI2   63.3   58.0    335  4.34   \n",
       "...           ...    ...        ...   ...     ...    ...    ...    ...   ...   \n",
       "53935       53936   0.72      Ideal     D     SI1   60.8   57.0   2757  5.75   \n",
       "53936       53937   0.72       Good     D     SI1   63.1   55.0   2757  5.69   \n",
       "53937       53938   0.70  Very Good     D     SI1   62.8   60.0   2757  5.66   \n",
       "53938       53939   0.86    Premium     H     SI2   61.0   58.0   2757  6.15   \n",
       "53939       53940   0.75      Ideal     D     SI2   62.2   55.0   2757  5.83   \n",
       "\n",
       "          y     z  \n",
       "0      3.98  2.43  \n",
       "1      3.84  2.31  \n",
       "2      4.07  2.31  \n",
       "3      4.23  2.63  \n",
       "4      4.35  2.75  \n",
       "...     ...   ...  \n",
       "53935  5.76  3.50  \n",
       "53936  5.75  3.61  \n",
       "53937  5.68  3.56  \n",
       "53938  6.12  3.74  \n",
       "53939  5.87  3.64  \n",
       "\n",
       "[53940 rows x 11 columns]"
      ]
     },
     "execution_count": 2,
     "metadata": {},
     "output_type": "execute_result"
    }
   ],
   "source": [
    "df = pd.read_csv(\"dia.csv\", sep=\",\")\n",
    "df"
   ]
  },
  {
   "cell_type": "markdown",
   "metadata": {},
   "source": [
    "Zaczynamy od wczytania danych i usunięcia pierwszej kolumny zawierającej liczby porządkowe."
   ]
  },
  {
   "cell_type": "code",
   "execution_count": 3,
   "metadata": {},
   "outputs": [],
   "source": [
    "df = df.iloc[:,1:]"
   ]
  },
  {
   "cell_type": "code",
   "execution_count": 4,
   "metadata": {},
   "outputs": [
    {
     "data": {
      "text/html": [
       "<div>\n",
       "<style scoped>\n",
       "    .dataframe tbody tr th:only-of-type {\n",
       "        vertical-align: middle;\n",
       "    }\n",
       "\n",
       "    .dataframe tbody tr th {\n",
       "        vertical-align: top;\n",
       "    }\n",
       "\n",
       "    .dataframe thead th {\n",
       "        text-align: right;\n",
       "    }\n",
       "</style>\n",
       "<table border=\"1\" class=\"dataframe\">\n",
       "  <thead>\n",
       "    <tr style=\"text-align: right;\">\n",
       "      <th></th>\n",
       "      <th>carat</th>\n",
       "      <th>cut</th>\n",
       "      <th>color</th>\n",
       "      <th>clarity</th>\n",
       "      <th>depth</th>\n",
       "      <th>table</th>\n",
       "      <th>price</th>\n",
       "      <th>x</th>\n",
       "      <th>y</th>\n",
       "      <th>z</th>\n",
       "    </tr>\n",
       "  </thead>\n",
       "  <tbody>\n",
       "    <tr>\n",
       "      <th>0</th>\n",
       "      <td>0.23</td>\n",
       "      <td>Ideal</td>\n",
       "      <td>E</td>\n",
       "      <td>SI2</td>\n",
       "      <td>61.5</td>\n",
       "      <td>55.0</td>\n",
       "      <td>326</td>\n",
       "      <td>3.95</td>\n",
       "      <td>3.98</td>\n",
       "      <td>2.43</td>\n",
       "    </tr>\n",
       "    <tr>\n",
       "      <th>1</th>\n",
       "      <td>0.21</td>\n",
       "      <td>Premium</td>\n",
       "      <td>E</td>\n",
       "      <td>SI1</td>\n",
       "      <td>59.8</td>\n",
       "      <td>61.0</td>\n",
       "      <td>326</td>\n",
       "      <td>3.89</td>\n",
       "      <td>3.84</td>\n",
       "      <td>2.31</td>\n",
       "    </tr>\n",
       "    <tr>\n",
       "      <th>2</th>\n",
       "      <td>0.23</td>\n",
       "      <td>Good</td>\n",
       "      <td>E</td>\n",
       "      <td>VS1</td>\n",
       "      <td>56.9</td>\n",
       "      <td>65.0</td>\n",
       "      <td>327</td>\n",
       "      <td>4.05</td>\n",
       "      <td>4.07</td>\n",
       "      <td>2.31</td>\n",
       "    </tr>\n",
       "    <tr>\n",
       "      <th>3</th>\n",
       "      <td>0.29</td>\n",
       "      <td>Premium</td>\n",
       "      <td>I</td>\n",
       "      <td>VS2</td>\n",
       "      <td>62.4</td>\n",
       "      <td>58.0</td>\n",
       "      <td>334</td>\n",
       "      <td>4.20</td>\n",
       "      <td>4.23</td>\n",
       "      <td>2.63</td>\n",
       "    </tr>\n",
       "    <tr>\n",
       "      <th>4</th>\n",
       "      <td>0.31</td>\n",
       "      <td>Good</td>\n",
       "      <td>J</td>\n",
       "      <td>SI2</td>\n",
       "      <td>63.3</td>\n",
       "      <td>58.0</td>\n",
       "      <td>335</td>\n",
       "      <td>4.34</td>\n",
       "      <td>4.35</td>\n",
       "      <td>2.75</td>\n",
       "    </tr>\n",
       "    <tr>\n",
       "      <th>...</th>\n",
       "      <td>...</td>\n",
       "      <td>...</td>\n",
       "      <td>...</td>\n",
       "      <td>...</td>\n",
       "      <td>...</td>\n",
       "      <td>...</td>\n",
       "      <td>...</td>\n",
       "      <td>...</td>\n",
       "      <td>...</td>\n",
       "      <td>...</td>\n",
       "    </tr>\n",
       "    <tr>\n",
       "      <th>53935</th>\n",
       "      <td>0.72</td>\n",
       "      <td>Ideal</td>\n",
       "      <td>D</td>\n",
       "      <td>SI1</td>\n",
       "      <td>60.8</td>\n",
       "      <td>57.0</td>\n",
       "      <td>2757</td>\n",
       "      <td>5.75</td>\n",
       "      <td>5.76</td>\n",
       "      <td>3.50</td>\n",
       "    </tr>\n",
       "    <tr>\n",
       "      <th>53936</th>\n",
       "      <td>0.72</td>\n",
       "      <td>Good</td>\n",
       "      <td>D</td>\n",
       "      <td>SI1</td>\n",
       "      <td>63.1</td>\n",
       "      <td>55.0</td>\n",
       "      <td>2757</td>\n",
       "      <td>5.69</td>\n",
       "      <td>5.75</td>\n",
       "      <td>3.61</td>\n",
       "    </tr>\n",
       "    <tr>\n",
       "      <th>53937</th>\n",
       "      <td>0.70</td>\n",
       "      <td>Very Good</td>\n",
       "      <td>D</td>\n",
       "      <td>SI1</td>\n",
       "      <td>62.8</td>\n",
       "      <td>60.0</td>\n",
       "      <td>2757</td>\n",
       "      <td>5.66</td>\n",
       "      <td>5.68</td>\n",
       "      <td>3.56</td>\n",
       "    </tr>\n",
       "    <tr>\n",
       "      <th>53938</th>\n",
       "      <td>0.86</td>\n",
       "      <td>Premium</td>\n",
       "      <td>H</td>\n",
       "      <td>SI2</td>\n",
       "      <td>61.0</td>\n",
       "      <td>58.0</td>\n",
       "      <td>2757</td>\n",
       "      <td>6.15</td>\n",
       "      <td>6.12</td>\n",
       "      <td>3.74</td>\n",
       "    </tr>\n",
       "    <tr>\n",
       "      <th>53939</th>\n",
       "      <td>0.75</td>\n",
       "      <td>Ideal</td>\n",
       "      <td>D</td>\n",
       "      <td>SI2</td>\n",
       "      <td>62.2</td>\n",
       "      <td>55.0</td>\n",
       "      <td>2757</td>\n",
       "      <td>5.83</td>\n",
       "      <td>5.87</td>\n",
       "      <td>3.64</td>\n",
       "    </tr>\n",
       "  </tbody>\n",
       "</table>\n",
       "<p>53940 rows × 10 columns</p>\n",
       "</div>"
      ],
      "text/plain": [
       "       carat        cut color clarity  depth  table  price     x     y     z\n",
       "0       0.23      Ideal     E     SI2   61.5   55.0    326  3.95  3.98  2.43\n",
       "1       0.21    Premium     E     SI1   59.8   61.0    326  3.89  3.84  2.31\n",
       "2       0.23       Good     E     VS1   56.9   65.0    327  4.05  4.07  2.31\n",
       "3       0.29    Premium     I     VS2   62.4   58.0    334  4.20  4.23  2.63\n",
       "4       0.31       Good     J     SI2   63.3   58.0    335  4.34  4.35  2.75\n",
       "...      ...        ...   ...     ...    ...    ...    ...   ...   ...   ...\n",
       "53935   0.72      Ideal     D     SI1   60.8   57.0   2757  5.75  5.76  3.50\n",
       "53936   0.72       Good     D     SI1   63.1   55.0   2757  5.69  5.75  3.61\n",
       "53937   0.70  Very Good     D     SI1   62.8   60.0   2757  5.66  5.68  3.56\n",
       "53938   0.86    Premium     H     SI2   61.0   58.0   2757  6.15  6.12  3.74\n",
       "53939   0.75      Ideal     D     SI2   62.2   55.0   2757  5.83  5.87  3.64\n",
       "\n",
       "[53940 rows x 10 columns]"
      ]
     },
     "execution_count": 4,
     "metadata": {},
     "output_type": "execute_result"
    }
   ],
   "source": [
    "df"
   ]
  },
  {
   "cell_type": "markdown",
   "metadata": {},
   "source": [
    "# 3. Przygotowanie danych"
   ]
  },
  {
   "cell_type": "code",
   "execution_count": 5,
   "metadata": {},
   "outputs": [
    {
     "data": {
      "text/plain": [
       "carat      float64\n",
       "cut         object\n",
       "color       object\n",
       "clarity     object\n",
       "depth      float64\n",
       "table      float64\n",
       "price        int64\n",
       "x          float64\n",
       "y          float64\n",
       "z          float64\n",
       "dtype: object"
      ]
     },
     "execution_count": 5,
     "metadata": {},
     "output_type": "execute_result"
    }
   ],
   "source": [
    "df.dtypes"
   ]
  },
  {
   "cell_type": "markdown",
   "metadata": {},
   "source": [
    "Sprawdzamy typy danych. Część z nich jest typu 'object', więc zamieniamy ja na wartości liczbowe."
   ]
  },
  {
   "cell_type": "code",
   "execution_count": 6,
   "metadata": {},
   "outputs": [],
   "source": [
    "#CLARITY: I1 (najgorsza), SI2, SI1, VS2, VS1, VVS2, VVS1, IF (najlepsza)\n",
    "df[\"clarity\"] = df[\"clarity\"].replace([\"IF\"],1)\n",
    "df[\"clarity\"] = df[\"clarity\"].replace([\"VVS1\"],2)\n",
    "df[\"clarity\"] = df[\"clarity\"].replace([\"VVS2\"],3)\n",
    "df[\"clarity\"] = df[\"clarity\"].replace([\"VS1\"],4)\n",
    "df[\"clarity\"] = df[\"clarity\"].replace([\"VS2\"],5)\n",
    "df[\"clarity\"] = df[\"clarity\"].replace([\"SI1\"],6)\n",
    "df[\"clarity\"] = df[\"clarity\"].replace([\"SI2\"],7)\n",
    "df[\"clarity\"] = df[\"clarity\"].replace([\"I1\"],8)\n",
    "\n",
    "#color: od J (najgorszy) do D (najlepszy)\n",
    "df[\"color\"] = df[\"color\"].replace([\"D\"],1)\n",
    "df[\"color\"] = df[\"color\"].replace([\"E\"],2)\n",
    "df[\"color\"] = df[\"color\"].replace([\"F\"],3)\n",
    "df[\"color\"] = df[\"color\"].replace([\"G\"],4)\n",
    "df[\"color\"] = df[\"color\"].replace([\"H\"],5)\n",
    "df[\"color\"] = df[\"color\"].replace([\"I\"],6)\n",
    "df[\"color\"] = df[\"color\"].replace([\"J\"],7)\n",
    "\n",
    "#cut: kolejność od najgorszego do najlepszego (Fair, Good, Very Good, Premium, Ideal)\n",
    "df[\"cut\"] = df[\"cut\"].replace([\"Ideal\"],1)\n",
    "df[\"cut\"] = df[\"cut\"].replace([\"Premium\"],2)\n",
    "df[\"cut\"] = df[\"cut\"].replace([\"Very Good\"],3)\n",
    "df[\"cut\"] = df[\"cut\"].replace([\"Good\"],4)\n",
    "df[\"cut\"] = df[\"cut\"].replace([\"Fair\"],5)"
   ]
  },
  {
   "cell_type": "code",
   "execution_count": 7,
   "metadata": {},
   "outputs": [
    {
     "data": {
      "text/plain": [
       "carat      float64\n",
       "cut          int64\n",
       "color        int64\n",
       "clarity      int64\n",
       "depth      float64\n",
       "table      float64\n",
       "price        int64\n",
       "x          float64\n",
       "y          float64\n",
       "z          float64\n",
       "dtype: object"
      ]
     },
     "execution_count": 7,
     "metadata": {},
     "output_type": "execute_result"
    }
   ],
   "source": [
    "df.dtypes"
   ]
  },
  {
   "cell_type": "markdown",
   "metadata": {},
   "source": [
    "Wszystkie dane maja wartości liczbowe. Następnie sprawdzamy, czy występują puste wartości."
   ]
  },
  {
   "cell_type": "code",
   "execution_count": 8,
   "metadata": {},
   "outputs": [
    {
     "data": {
      "text/plain": [
       "carat      0\n",
       "cut        0\n",
       "color      0\n",
       "clarity    0\n",
       "depth      0\n",
       "table      0\n",
       "price      0\n",
       "x          0\n",
       "y          0\n",
       "z          0\n",
       "dtype: int64"
      ]
     },
     "execution_count": 8,
     "metadata": {},
     "output_type": "execute_result"
    }
   ],
   "source": [
    "df.isnull().sum(axis=0)"
   ]
  },
  {
   "cell_type": "markdown",
   "metadata": {},
   "source": [
    "Nie ma żadnych pustych komórek, więc nie musimy usuwać żadnych wierszy ani kolumn, lub uzupełniać brakujących wartości. Możemy przejść tworzenia modelu."
   ]
  },
  {
   "cell_type": "markdown",
   "metadata": {},
   "source": [
    "# 4. Wybór hiperparametrów"
   ]
  },
  {
   "cell_type": "code",
   "execution_count": 9,
   "metadata": {},
   "outputs": [],
   "source": [
    "#potrzebne importy\n",
    "from sklearn.model_selection import train_test_split, GridSearchCV\n",
    "from sklearn.neighbors import KNeighborsRegressor\n",
    "from sklearn.tree import DecisionTreeRegressor\n",
    "from sklearn.ensemble import RandomForestRegressor"
   ]
  },
  {
   "cell_type": "markdown",
   "metadata": {},
   "source": [
    "Dzielimy zbiór danych na zmienne objaśniające (X) i zmienną objaśnianą (Y)."
   ]
  },
  {
   "cell_type": "code",
   "execution_count": 10,
   "metadata": {},
   "outputs": [],
   "source": [
    "X = df.drop(\"price\", axis=1)\n",
    "Y = df[\"price\"]"
   ]
  },
  {
   "cell_type": "markdown",
   "metadata": {},
   "source": [
    "Dzielimy zbiór danych na dane treningowe i dane testowe."
   ]
  },
  {
   "cell_type": "code",
   "execution_count": 11,
   "metadata": {},
   "outputs": [],
   "source": [
    "X_train, X_test, Y_train, Y_test = train_test_split(X, Y, test_size=0.2)"
   ]
  },
  {
   "cell_type": "code",
   "execution_count": 12,
   "metadata": {},
   "outputs": [],
   "source": [
    "KNN = KNeighborsRegressor()\n",
    "DT = DecisionTreeRegressor()\n",
    "RF = RandomForestRegressor()"
   ]
  },
  {
   "cell_type": "markdown",
   "metadata": {},
   "source": [
    "Wybieramy hiperparametry do testowania i sprawdzamy dla jakich wartości otrzymujemy najlepszy wynik."
   ]
  },
  {
   "cell_type": "markdown",
   "metadata": {},
   "source": [
    "### KNN"
   ]
  },
  {
   "cell_type": "code",
   "execution_count": 127,
   "metadata": {},
   "outputs": [],
   "source": [
    "param_weights_KNN = [\"uniform\", \"distance\"]\n",
    "param_neighbors_KNN = [5,10,15,20,30,50]\n",
    "param_p_KNN = [1,2,3,4,5,6]\n",
    "\n",
    "param_KNN = {\n",
    "    'weights': param_weights_KNN,\n",
    "    'n_neighbors': param_neighbors_KNN,\n",
    "    'p' : param_p_KNN}"
   ]
  },
  {
   "cell_type": "code",
   "execution_count": 128,
   "metadata": {},
   "outputs": [],
   "source": [
    "KNN_gs = GridSearchCV(KNN, param_KNN)\n",
    "KNN_gs = KNN_gs.fit(X_train, Y_train)"
   ]
  },
  {
   "cell_type": "code",
   "execution_count": 129,
   "metadata": {},
   "outputs": [
    {
     "name": "stdout",
     "output_type": "stream",
     "text": [
      "{'n_neighbors': 10, 'p': 1, 'weights': 'distance'}\n",
      "0.9696651671454404\n"
     ]
    }
   ],
   "source": [
    "print(KNN_gs.best_params_)\n",
    "print(KNN_gs.best_score_)"
   ]
  },
  {
   "cell_type": "markdown",
   "metadata": {},
   "source": [
    "### DT"
   ]
  },
  {
   "cell_type": "code",
   "execution_count": 16,
   "metadata": {},
   "outputs": [],
   "source": [
    "param_criterion_DT = [\"mse\",\"mae\",\"friedman_mse\"]\n",
    "param_depth_DT = [5,10,20,30]\n",
    "\n",
    "param_DT = {\n",
    "    'criterion': param_criterion_DT,\n",
    "    'max_depth': param_depth_DT,}"
   ]
  },
  {
   "cell_type": "code",
   "execution_count": 17,
   "metadata": {},
   "outputs": [
    {
     "data": {
      "text/plain": [
       "GridSearchCV(estimator=DecisionTreeRegressor(),\n",
       "             param_grid={'criterion': ['mse', 'mae', 'friedman_mse'],\n",
       "                         'max_depth': [5, 10, 20, 30]})"
      ]
     },
     "execution_count": 17,
     "metadata": {},
     "output_type": "execute_result"
    }
   ],
   "source": [
    "DT_gs = GridSearchCV(DT, param_DT)\n",
    "DT_gs = DT_gs.fit(X_train, Y_train)"
   ]
  },
  {
   "cell_type": "code",
   "execution_count": 18,
   "metadata": {},
   "outputs": [
    {
     "name": "stdout",
     "output_type": "stream",
     "text": [
      "{'criterion': 'friedman_mse', 'max_depth': 10}\n",
      "0.9735104124462017\n"
     ]
    }
   ],
   "source": [
    "print(DT_gs.best_params_)\n",
    "print(DT_gs.best_score_)"
   ]
  },
  {
   "cell_type": "markdown",
   "metadata": {},
   "source": [
    "### RF"
   ]
  },
  {
   "cell_type": "code",
   "execution_count": 19,
   "metadata": {},
   "outputs": [],
   "source": [
    "param_depth_RF = [10,20,30,40,50]\n",
    "param_estimator_RF = [110,120,130]\n",
    "\n",
    "param_RF = {\n",
    "    'max_depth': param_depth_RF,\n",
    "    'n_estimators': param_estimator_RF}"
   ]
  },
  {
   "cell_type": "code",
   "execution_count": 20,
   "metadata": {},
   "outputs": [
    {
     "data": {
      "text/plain": [
       "GridSearchCV(estimator=RandomForestRegressor(),\n",
       "             param_grid={'max_depth': [10, 20, 30, 40, 50],\n",
       "                         'n_estimators': [110, 120, 130]})"
      ]
     },
     "execution_count": 20,
     "metadata": {},
     "output_type": "execute_result"
    }
   ],
   "source": [
    "RF_gs = GridSearchCV(RF, param_RF)\n",
    "RF_gs = RF_gs.fit(X_train, Y_train)"
   ]
  },
  {
   "cell_type": "code",
   "execution_count": 21,
   "metadata": {},
   "outputs": [
    {
     "name": "stdout",
     "output_type": "stream",
     "text": [
      "{'max_depth': 40, 'n_estimators': 130}\n",
      "0.98159479132752\n"
     ]
    }
   ],
   "source": [
    "print(RF_gs.best_params_)\n",
    "print(RF_gs.best_score_)"
   ]
  },
  {
   "cell_type": "code",
   "execution_count": 133,
   "metadata": {},
   "outputs": [
    {
     "data": {
      "text/plain": [
       "['RF_gs.joblib']"
      ]
     },
     "execution_count": 133,
     "metadata": {},
     "output_type": "execute_result"
    }
   ],
   "source": [
    "#dump(KNN_gs, 'KNN_gs.joblib')\n",
    "#dump(DT_gs, 'DT_gs.joblib')\n",
    "#dump(RF_gs, 'RF_gs.joblib')"
   ]
  },
  {
   "cell_type": "markdown",
   "metadata": {},
   "source": [
    "### Znaleźliśmy najlepsze hiperparametry dla naszych modeli:\n",
    "1. KNN: weights='distance', n_neighbors=10, p=1\n",
    "2. DT: criterion = 'friedman_mse', max_depth=10\n",
    "3. RF: n_estimators=130, max_depth=40\n",
    "\n",
    "Zobaczmy jak prezentują się wykresy przedstawiające wyniki każdego modelu w zależności od wartości jednego parametru."
   ]
  },
  {
   "cell_type": "code",
   "execution_count": 23,
   "metadata": {},
   "outputs": [],
   "source": [
    "score_list_KNN = []\n",
    "for x in range(1,80):\n",
    "    KNN = KNeighborsRegressor(n_neighbors=x, weights='distance', p = 1)\n",
    "    KNN.fit(X_train, Y_train)\n",
    "    score_list_KNN.append(KNN.score(X_test, Y_test))"
   ]
  },
  {
   "cell_type": "code",
   "execution_count": 24,
   "metadata": {},
   "outputs": [
    {
     "data": {
      "text/plain": [
       "[<matplotlib.lines.Line2D at 0x2ac8f3eda88>]"
      ]
     },
     "execution_count": 24,
     "metadata": {},
     "output_type": "execute_result"
    },
    {
     "data": {
      "image/png": "[encoded data removed]",
      "text/plain": [
       "<Figure size 432x288 with 1 Axes>"
      ]
     },
     "metadata": {
      "needs_background": "light"
     },
     "output_type": "display_data"
    }
   ],
   "source": [
    "plt.plot(range(1,80),score_list_KNN)"
   ]
  },
  {
   "cell_type": "code",
   "execution_count": 25,
   "metadata": {},
   "outputs": [
    {
     "name": "stdout",
     "output_type": "stream",
     "text": [
      "liczba sąsiadów = 13\n",
      "max = 0.9717245546015127\n"
     ]
    }
   ],
   "source": [
    "print(\"liczba sąsiadów =\",score_list_KNN.index(max(score_list_KNN))+1)\n",
    "print(\"max =\", max(score_list_KNN))"
   ]
  },
  {
   "cell_type": "code",
   "execution_count": 125,
   "metadata": {},
   "outputs": [
    {
     "data": {
      "text/plain": [
       "[0.9530754171794019,\n",
       " 0.9645058062785057,\n",
       " 0.9678709113500386,\n",
       " 0.9695981472602814,\n",
       " 0.9702893000914822,\n",
       " 0.9710715380109727,\n",
       " 0.971265975775497,\n",
       " 0.9714307616593506,\n",
       " 0.9716208372745854,\n",
       " 0.9715845496671703,\n",
       " 0.9716857581697557,\n",
       " 0.9716702593660244,\n",
       " 0.9717245546015127,\n",
       " 0.9716926593480596,\n",
       " 0.9716935434525249,\n",
       " 0.9716408011437024,\n",
       " 0.971469398957283,\n",
       " 0.9714922125254417]"
      ]
     },
     "execution_count": 125,
     "metadata": {},
     "output_type": "execute_result"
    }
   ],
   "source": [
    "score_list_KNN[:18]"
   ]
  },
  {
   "cell_type": "markdown",
   "metadata": {},
   "source": [
    "Dla K najbliższych sąsiadów zrobiliśmy funkcję zależną od liczby sąsiadów. Widać, że na początku funkcja rośnie, a od dla argumentów z przedziału [8,15] utrzymuje się na podobnym poziomie, osiągając maksimum dla 13 sąsiadów. Następnie zaczyna maleć, aż do końca. Zatem przyjmijmy dla naszego modelu wartość hiperparametru n_neighbors=13."
   ]
  },
  {
   "cell_type": "code",
   "execution_count": 26,
   "metadata": {},
   "outputs": [],
   "source": [
    "score_list_DT = []\n",
    "for x in range(1,70):\n",
    "    DT = DecisionTreeRegressor(criterion = 'friedman_mse', max_depth=x)\n",
    "    DT.fit(X_train, Y_train)\n",
    "    score_list_DT.append(DT.score(X_test, Y_test))"
   ]
  },
  {
   "cell_type": "code",
   "execution_count": 27,
   "metadata": {},
   "outputs": [
    {
     "data": {
      "text/plain": [
       "[<matplotlib.lines.Line2D at 0x2ac8f4c6808>]"
      ]
     },
     "execution_count": 27,
     "metadata": {},
     "output_type": "execute_result"
    },
    {
     "data": {
      "image/png": "[encoded data removed]",
      "text/plain": [
       "<Figure size 432x288 with 1 Axes>"
      ]
     },
     "metadata": {
      "needs_background": "light"
     },
     "output_type": "display_data"
    }
   ],
   "source": [
    "plt.plot(range(1,70),score_list_DT)"
   ]
  },
  {
   "cell_type": "code",
   "execution_count": 28,
   "metadata": {},
   "outputs": [
    {
     "name": "stdout",
     "output_type": "stream",
     "text": [
      "liczba sąsiadów = 10\n"
     ]
    },
    {
     "data": {
      "text/plain": [
       "0.9753386163813451"
      ]
     },
     "execution_count": 28,
     "metadata": {},
     "output_type": "execute_result"
    }
   ],
   "source": [
    "print(\"liczba sąsiadów =\", score_list_DT.index(max(score_list_DT)))\n",
    "max(score_list_DT)"
   ]
  },
  {
   "cell_type": "markdown",
   "metadata": {},
   "source": [
    "Dla drzewa decyzyjnego jako argument funkcji wzieliśmy maksymalną głębokość drzewa. Podobnie jak dla K najbliższych sąsiadów, na początku funkcja rośnie, aż osiąga maksimum dla głębokości drzewa równej 10. Później delikatnie maleje, po czym dla argumentów większych od 20 utrzymuje się na stałym poziomie. Więc dla naszego modelu najlepiej przyjąć max_depth=10."
   ]
  },
  {
   "cell_type": "code",
   "execution_count": 29,
   "metadata": {},
   "outputs": [],
   "source": [
    "score_list_RF = []\n",
    "for x in range(1,200):\n",
    "    RF = RandomForestRegressor(n_estimators=x, max_depth=40)\n",
    "    RF.fit(X_train, Y_train)\n",
    "    score_list_RF.append(RF.score(X_test, Y_test))"
   ]
  },
  {
   "cell_type": "code",
   "execution_count": 30,
   "metadata": {},
   "outputs": [
    {
     "data": {
      "text/plain": [
       "[<matplotlib.lines.Line2D at 0x2ac909c7948>]"
      ]
     },
     "execution_count": 30,
     "metadata": {},
     "output_type": "execute_result"
    },
    {
     "data": {
      "image/png": "[encoded data removed]",
      "text/plain": [
       "<Figure size 432x288 with 1 Axes>"
      ]
     },
     "metadata": {
      "needs_background": "light"
     },
     "output_type": "display_data"
    }
   ],
   "source": [
    "plt.plot(range(1,200),score_list_RF)"
   ]
  },
  {
   "cell_type": "code",
   "execution_count": 31,
   "metadata": {},
   "outputs": [
    {
     "name": "stdout",
     "output_type": "stream",
     "text": [
      "117\n",
      "0.9818428255696716\n"
     ]
    }
   ],
   "source": [
    "print(score_list_RF.index(max(score_list_RF)))\n",
    "print(max(score_list_RF))"
   ]
  },
  {
   "cell_type": "code",
   "execution_count": 32,
   "metadata": {},
   "outputs": [
    {
     "data": {
      "text/plain": [
       "0.0003784371698770661"
      ]
     },
     "execution_count": 32,
     "metadata": {},
     "output_type": "execute_result"
    }
   ],
   "source": [
    "max(score_list_RF[100:])-min(score_list_RF[100:])"
   ]
  },
  {
   "cell_type": "markdown",
   "metadata": {},
   "source": [
    "Dla lasu losowego wartość funkcji rośnie wraz ze wzrostem liczby drzew. Od około 100 drzew utrzymuje się na stałym poziomie, wahając się o maksymalnie 0.0004. Zatem ustalmy parametr n_estimators=150."
   ]
  },
  {
   "cell_type": "code",
   "execution_count": 34,
   "metadata": {},
   "outputs": [],
   "source": [
    "KNN = KNeighborsRegressor(n_neighbors=13, weights='distance', p=1)\n",
    "KNN = KNN.fit(X_train, Y_train)"
   ]
  },
  {
   "cell_type": "code",
   "execution_count": 35,
   "metadata": {},
   "outputs": [],
   "source": [
    "DT = DecisionTreeRegressor(criterion = 'friedman_mse', max_depth=10)\n",
    "DT = DT.fit(X_train, Y_train)"
   ]
  },
  {
   "cell_type": "code",
   "execution_count": 36,
   "metadata": {},
   "outputs": [],
   "source": [
    "RF = RandomForestRegressor(n_estimators=150, max_depth=40)\n",
    "RF = RF.fit(X_train, Y_train)"
   ]
  },
  {
   "cell_type": "markdown",
   "metadata": {},
   "source": [
    "Zapisanie wyników"
   ]
  },
  {
   "cell_type": "code",
   "execution_count": 126,
   "metadata": {},
   "outputs": [
    {
     "data": {
      "text/plain": [
       "['score_list_RF.joblib']"
      ]
     },
     "execution_count": 126,
     "metadata": {},
     "output_type": "execute_result"
    }
   ],
   "source": [
    "#dump(RF, 'RandomForest.joblib')\n",
    "#dump(KNN, 'KNeigbors.joblib')\n",
    "#dump(DT, 'DecisionTree.joblib')\n",
    "#dump(score_list_KNN, 'score_list_KNN.joblib')\n",
    "#dump(score_list_DT, 'score_list_DT.joblib')\n",
    "#dump(score_list_RF, 'score_list_RF.joblib')"
   ]
  },
  {
   "cell_type": "markdown",
   "metadata": {},
   "source": [
    "# 5. Metryki"
   ]
  },
  {
   "cell_type": "code",
   "execution_count": 107,
   "metadata": {},
   "outputs": [],
   "source": [
    "from sklearn.metrics import explained_variance_score, max_error, mean_squared_error, mean_absolute_error, r2_score"
   ]
  },
  {
   "cell_type": "markdown",
   "metadata": {},
   "source": [
    "Dla wybranych hiperparametrów sprawdźmy jak wyglądają różne metryki, aby wybrać najlepszy model."
   ]
  },
  {
   "cell_type": "code",
   "execution_count": 38,
   "metadata": {},
   "outputs": [],
   "source": [
    "KNN_pred = KNN.predict(X_test)\n",
    "DT_pred = DT.predict(X_test)\n",
    "RF_pred = RF.predict(X_test)"
   ]
  },
  {
   "cell_type": "code",
   "execution_count": 39,
   "metadata": {},
   "outputs": [],
   "source": [
    "models = np.array(['KNN', 'DT', 'RF'])"
   ]
  },
  {
   "cell_type": "code",
   "execution_count": 40,
   "metadata": {},
   "outputs": [
    {
     "data": {
      "image/png": "[encoded data removed]",
      "text/plain": [
       "<Figure size 432x288 with 1 Axes>"
      ]
     },
     "metadata": {
      "needs_background": "light"
     },
     "output_type": "display_data"
    },
    {
     "name": "stdout",
     "output_type": "stream",
     "text": [
      "KNN: 0.9717352252076714\n",
      "DT: 0.974280952615292\n",
      "RF: 0.9818129489029388\n"
     ]
    }
   ],
   "source": [
    "expl_score = np.array([explained_variance_score(Y_test, KNN_pred),\n",
    "                       explained_variance_score(Y_test, DT_pred),\n",
    "                       explained_variance_score(Y_test, RF_pred)])\n",
    "\n",
    "plt.bar(models,expl_score)\n",
    "plt.ylabel('Explained variance score', fontsize=12)\n",
    "plt.xlabel('Nazwa modelu', fontsize=12)\n",
    "plt.ylim([0.8,1.0])\n",
    "plt.show()\n",
    "\n",
    "print(\"KNN:\", explained_variance_score(Y_test, KNN_pred))\n",
    "print(\"DT:\", explained_variance_score(Y_test, DT_pred))\n",
    "print(\"RF:\", explained_variance_score(Y_test, RF_pred))"
   ]
  },
  {
   "cell_type": "code",
   "execution_count": 109,
   "metadata": {},
   "outputs": [
    {
     "data": {
      "image/png": "[encoded data removed]",
      "text/plain": [
       "<Figure size 432x288 with 1 Axes>"
      ]
     },
     "metadata": {
      "needs_background": "light"
     },
     "output_type": "display_data"
    },
    {
     "name": "stdout",
     "output_type": "stream",
     "text": [
      "KNN: 0.9717245546015127\n",
      "DT: 0.9742805634195197\n",
      "RF: 0.9818129423607675\n"
     ]
    }
   ],
   "source": [
    "R2_score = np.array([r2_score(Y_test, KNN_pred),\n",
    "                       r2_score(Y_test, DT_pred),\n",
    "                       r2_score(Y_test, RF_pred)])\n",
    "\n",
    "plt.bar(models,R2_score)\n",
    "plt.ylabel('R2 score', fontsize=12)\n",
    "plt.xlabel('Nazwa modelu', fontsize=12)\n",
    "plt.ylim([0.8,1.0])\n",
    "plt.show()\n",
    "\n",
    "print(\"KNN:\", r2_score(Y_test, KNN_pred))\n",
    "print(\"DT:\", r2_score(Y_test, DT_pred))\n",
    "print(\"RF:\", r2_score(Y_test, RF_pred))"
   ]
  },
  {
   "cell_type": "code",
   "execution_count": 41,
   "metadata": {},
   "outputs": [
    {
     "data": {
      "image/png": "[encoded data removed]",
      "text/plain": [
       "<Figure size 432x288 with 1 Axes>"
      ]
     },
     "metadata": {
      "needs_background": "light"
     },
     "output_type": "display_data"
    },
    {
     "name": "stdout",
     "output_type": "stream",
     "text": [
      "KNN: 11718.661102495958\n",
      "DT: 6756.0\n",
      "RF: 6102.093333333334\n"
     ]
    }
   ],
   "source": [
    "max_err = np.array([max_error(Y_test, KNN_pred),\n",
    "                    max_error(Y_test, DT_pred),\n",
    "                    max_error(Y_test, RF_pred)])\n",
    "\n",
    "plt.bar(models,max_err)\n",
    "plt.ylabel('Maksymalny błąd', fontsize=12)\n",
    "plt.xlabel('Nazwa modelu', fontsize=12)\n",
    "plt.show()\n",
    "\n",
    "print(\"KNN:\", max_error(Y_test, KNN_pred))\n",
    "print(\"DT:\", max_error(Y_test, DT_pred))\n",
    "print(\"RF:\", max_error(Y_test, RF_pred))"
   ]
  },
  {
   "cell_type": "code",
   "execution_count": 42,
   "metadata": {},
   "outputs": [
    {
     "data": {
      "image/png": "[encoded data removed]",
      "text/plain": [
       "<Figure size 432x288 with 1 Axes>"
      ]
     },
     "metadata": {
      "needs_background": "light"
     },
     "output_type": "display_data"
    },
    {
     "name": "stdout",
     "output_type": "stream",
     "text": [
      "KNN: 347.46199709957887\n",
      "DT: 338.3435517609351\n",
      "RF: 265.6453861479931\n"
     ]
    }
   ],
   "source": [
    "abs_err = np.array([mean_absolute_error(Y_test, KNN_pred),\n",
    "                       mean_absolute_error(Y_test, DT_pred),\n",
    "                       mean_absolute_error(Y_test, RF_pred)])\n",
    "\n",
    "plt.bar(models,abs_err)\n",
    "plt.ylabel('Średni bład bezwzględny', fontsize=12)\n",
    "plt.xlabel('Nazwa modelu', fontsize=12)\n",
    "plt.ylim([200,360])\n",
    "plt.show()\n",
    "\n",
    "print(\"KNN:\", mean_absolute_error(Y_test, KNN_pred))\n",
    "print(\"DT:\", mean_absolute_error(Y_test, DT_pred))\n",
    "print(\"RF:\", mean_absolute_error(Y_test, RF_pred))"
   ]
  },
  {
   "cell_type": "code",
   "execution_count": 43,
   "metadata": {},
   "outputs": [
    {
     "data": {
      "image/png": "[encoded data removed]",
      "text/plain": [
       "<Figure size 432x288 with 1 Axes>"
      ]
     },
     "metadata": {
      "needs_background": "light"
     },
     "output_type": "display_data"
    },
    {
     "name": "stdout",
     "output_type": "stream",
     "text": [
      "KNN: 444371.9567553627\n",
      "DT: 404202.16901428264\n",
      "RF: 285824.6183878204\n"
     ]
    }
   ],
   "source": [
    "sqr_err = np.array([mean_squared_error(Y_test, KNN_pred),\n",
    "                    mean_squared_error(Y_test, DT_pred),\n",
    "                    mean_squared_error(Y_test, RF_pred)])\n",
    "\n",
    "plt.bar(models,sqr_err)\n",
    "plt.ylabel('Błąd średniokwadratowy', fontsize=12)\n",
    "plt.xlabel('Nazwa modelu', fontsize=12)\n",
    "plt.show()\n",
    "\n",
    "print(\"KNN:\", mean_squared_error(Y_test, KNN_pred))\n",
    "print(\"DT:\", mean_squared_error(Y_test, DT_pred))\n",
    "print(\"RF:\", mean_squared_error(Y_test, RF_pred))"
   ]
  },
  {
   "cell_type": "markdown",
   "metadata": {},
   "source": [
    "We wszystkich sprawdzonych metrykach las losowy osiąga najlepsze wyniki. Różnice w explained variance score i r2 score sa niewielkie dla wszysktich modeli. Przewagę lasu losowego nad K najbliższych sąsiadów widać już w maksymalnym błędzie, który jest prawie dwa razy mniejszy.  Średni błąd, mimo że wynosi 265 dla lasu losowego, to i tak jest to ponad 70 mniejszy niz dla dwóch pozostałych modeli, więc najlpeszym modelem jest las losowy."
   ]
  },
  {
   "cell_type": "markdown",
   "metadata": {},
   "source": [
    "## 6.Feature Importance, SHAP"
   ]
  },
  {
   "cell_type": "code",
   "execution_count": 44,
   "metadata": {},
   "outputs": [
    {
     "name": "stdout",
     "output_type": "stream",
     "text": [
      "[0.61625971 0.00179765 0.03153865 0.0633981  0.00307438 0.00238537\n",
      " 0.00449805 0.27207283 0.00497524]\n"
     ]
    }
   ],
   "source": [
    "print(RF.feature_importances_)"
   ]
  },
  {
   "cell_type": "code",
   "execution_count": 117,
   "metadata": {},
   "outputs": [
    {
     "data": {
      "image/png": "[encoded data removed]",
      "text/plain": [
       "<Figure size 432x288 with 1 Axes>"
      ]
     },
     "metadata": {
      "needs_background": "light"
     },
     "output_type": "display_data"
    }
   ],
   "source": [
    "importances = RF.feature_importances_\n",
    "indices = np.argsort(importances)\n",
    "feature = X_train.columns\n",
    "\n",
    "plt.title(\"Istotność cech\")\n",
    "plt.bar(feature[indices], importances[indices])\n",
    "plt.show()"
   ]
  },
  {
   "cell_type": "code",
   "execution_count": 46,
   "metadata": {},
   "outputs": [],
   "source": [
    "import shap"
   ]
  },
  {
   "cell_type": "code",
   "execution_count": 47,
   "metadata": {},
   "outputs": [],
   "source": [
    "explainer = shap.TreeExplainer(RF)"
   ]
  },
  {
   "cell_type": "code",
   "execution_count": 116,
   "metadata": {},
   "outputs": [],
   "source": [
    "#shap_values = explainer.shap_values(X_train)\n",
    "shap_values = load('ShapValues.joblib')"
   ]
  },
  {
   "cell_type": "code",
   "execution_count": 90,
   "metadata": {},
   "outputs": [],
   "source": [
    "#dump(shap_values,'ShapValues.joblib')"
   ]
  },
  {
   "cell_type": "code",
   "execution_count": 114,
   "metadata": {},
   "outputs": [
    {
     "data": {
      "text/plain": [
       "array([[-7.22992732e+02, -3.03817096e+01,  1.36149770e+02, ...,\n",
       "         9.20752676e+01, -7.36678104e+01, -6.63495658e+01],\n",
       "       [-2.52594111e+03, -4.42266611e+01,  1.60501757e+02, ...,\n",
       "        -3.13533986e-01, -8.89997020e+02, -8.77185471e+01],\n",
       "       [-2.40515959e+03, -1.17470885e+01,  1.51025937e+02, ...,\n",
       "         4.85933196e+01, -8.54928002e+02, -7.34238192e+01],\n",
       "       ...,\n",
       "       [-2.94245306e+03,  4.60469694e+01,  2.04284135e+02, ...,\n",
       "        -1.00834026e+02, -9.55541557e+02, -7.41651311e+01],\n",
       "       [ 2.15813703e+03,  6.38846725e+01, -1.66495217e+03, ...,\n",
       "         5.33524820e+01, -9.20530142e+02, -1.33484506e+02],\n",
       "       [-2.58650133e+03, -4.86708064e+01,  2.10921508e+02, ...,\n",
       "         4.26690141e+01, -9.58323871e+02, -5.55924070e+01]])"
      ]
     },
     "execution_count": 114,
     "metadata": {},
     "output_type": "execute_result"
    }
   ],
   "source": [
    "shap_values"
   ]
  },
  {
   "cell_type": "code",
   "execution_count": 112,
   "metadata": {},
   "outputs": [
    {
     "data": {
      "image/png": "[encoded data removed]",
      "text/plain": [
       "<Figure size 576x367.2 with 2 Axes>"
      ]
     },
     "metadata": {
      "needs_background": "light"
     },
     "output_type": "display_data"
    }
   ],
   "source": [
    "shap.summary_plot(shap_values,X_train)"
   ]
  },
  {
   "cell_type": "markdown",
   "metadata": {},
   "source": [
    "Z wykresu istotności cech widać, że najważniejsza własność to waga diamentu, a druga istotna cecha to wysokość. Następnie czystość i kolor mają mniejszy wpływ na cenę. Pozostałe cechy diamentu mają marginalny wpływ na cenę.\n",
    "\n",
    "Patrząc na wykres wartości SHAP widzimy podobne zależności. Tak jak można się spodziewać, im większa waga tym większa cena diamentu, podobnie dla wysokości. W obu przypadkach małe wartośći tylko trochę zaniżają wartość. Dla czystości tylko wartości skrajne mają duzy wpływ na cenę. Podobnie sprawa wygląda dla koloru, ale wpływ na cenę jest tutaj mniejszy."
   ]
  },
  {
   "cell_type": "markdown",
   "metadata": {},
   "source": [
    "# Recomendation"
   ]
  },
  {
   "cell_type": "markdown",
   "metadata": {},
   "source": [
    "Patrząc na powyższe wyniki, najistotniejsze jest podabnie dokładnej wagi i wyskości diamentu, oraz odpowiednie sklasyfikowanie czystości i koloru. Jednak nadanie odpowiednich wartości nie jest takie proste jak zważenie diamentu, ponieważ nie ma jasno określonych wytycznych. Więc najlepiej byłoby wprowadzić unormowany sposób oceny czystości i koloru, aby polepszyć wyniki."
   ]
  }
 ],
 "metadata": {
  "kernelspec": {
   "display_name": "Python 3",
   "language": "python",
   "name": "python3"
  },
  "language_info": {
   "codemirror_mode": {
    "name": "ipython",
    "version": 3
   },
   "file_extension": ".py",
   "mimetype": "text/x-python",
   "name": "python",
   "nbconvert_exporter": "python",
   "pygments_lexer": "ipython3",
   "version": "3.8.3"
  }
 },
 "nbformat": 4,
 "nbformat_minor": 4
}
